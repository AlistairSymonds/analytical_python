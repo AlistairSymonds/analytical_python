{
  "cells": [
    {
      "cell_type": "code",
      "execution_count": 27,
      "metadata": {
        "collapsed": true,
        "pycharm": {
          "is_executing": false,
          "name": "#%%\n"
        }
      },
      "outputs": [],
      "source": "import cv2\nimport numpy as np\n\n\n\ndef apply_bayer(rgb_img: np.ndarray):\n    y,x,_ \u003d rgb_img.shape\n    bayered_img \u003d np.zeros((y,x))\n    #simulating RGGB bayer pattern\n    #odd rows -\u003e r,g,r,g,r,g,.....\n    #even rows -\u003e g,b,g,b,g,b,....\n    for i in range(0,y):\n        for j in range(0,x):\n            if( i \u0026 1):\n                if(j \u0026 1):\n                    bayered_img[i,j] \u003d rgb_img[i,j,2] # top left, get red\n                else:\n                    bayered_img[i,j] \u003d rgb_img[i,j,1] # top right, get green\n            else:\n                if(j \u0026 1):\n                    bayered_img[i, j] \u003d rgb_img[i, j, 1]  # bottom left, get green\n                else:\n                    bayered_img[i, j] \u003d rgb_img[i, j, 0]  # top right, get blue\n    return bayered_img\n\n"
    },
    {
      "cell_type": "code",
      "execution_count": 28,
      "outputs": [
        {
          "data": {
            "text/plain": "True"
          },
          "metadata": {},
          "output_type": "execute_result",
          "execution_count": 28
        }
      ],
      "source": "img \u003d cv2.imread(\u0027test_img.png\u0027, cv2.IMREAD_COLOR)\nimg_bayer \u003d apply_bayer(img)\ncv2.imwrite(\"bayered.tiff\",img_bayer)",
      "metadata": {
        "pycharm": {
          "metadata": false,
          "name": "#%%\n",
          "is_executing": false
        }
      }
    }
  ],
  "metadata": {
    "language_info": {
      "codemirror_mode": {
        "name": "ipython",
        "version": 2
      },
      "file_extension": ".py",
      "mimetype": "text/x-python",
      "name": "python",
      "nbconvert_exporter": "python",
      "pygments_lexer": "ipython2",
      "version": "2.7.6"
    },
    "kernelspec": {
      "name": "python3",
      "language": "python",
      "display_name": "Python 3"
    }
  },
  "nbformat": 4,
  "nbformat_minor": 0
}